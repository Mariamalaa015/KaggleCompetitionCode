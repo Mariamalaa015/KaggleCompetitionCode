# Familiar imports
import numpy as np
import pandas as pd
import matplotlib.pyplot as plt
from sklearn.preprocessing import OrdinalEncoder
from sklearn.model_selection import train_test_split

# Load the training data
trainset = pd.read_csv("../input/30-days-of-ml/train.csv", index_col=0)
testset = pd.read_csv("../input/30-days-of-ml/test.csv", index_col=0)

y=trainset['target']
features=trainset.drop(['target'],axis=1)
features.head()

# List of categorical columns
object_cols = [col for col in features.columns if 'cat' in col]

# ordinal-encode categorical columns
X = features.copy()
X_test = testset.copy()
ordinal_encoder = OrdinalEncoder()
X[object_cols] = ordinal_encoder.fit_transform(features[object_cols])
X_test[object_cols] = ordinal_encoder.transform(testset[object_cols])
# Preview the ordinal-encoded features
X.head()

X_train, X_valid, y_train, y_valid = train_test_split(X, y, random_state=42)

#Training the model
from sklearn.ensemble import RandomForestRegressor
from sklearn.metrics import mean_squared_error
import xgboost
import csv as csv
from xgboost import XGBRegressor
from sklearn.metrics import mean_absolute_error
my_model_2 =XGBRegressor(random_state=42,n_estimators=800,n_jobs=4,learning_rate=0.05,subsample=0.5)
my_model_2.fit(X_train,y_train,early_stopping_rounds=20, 
             eval_set=[(X_valid, y_valid)],
             verbose=False)
predictions_2 =my_model_2.predict(X_valid)
print(mean_squared_error(y_valid, predictions_2, squared=False))

# Use the model to generate predictions
predictions = my_model_2.predict(X_test)

# Save the predictions to a CSV file
output = pd.DataFrame({'Id': X_test.index,
                       'target': predictions})
output.to_csv('submission.csv', index=False)
